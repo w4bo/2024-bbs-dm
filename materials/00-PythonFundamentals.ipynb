{
 "cells": [
  {
   "cell_type": "markdown",
   "id": "eee6b966",
   "metadata": {
    "colab_type": "text",
    "id": "view-in-github",
    "slideshow": {
     "slide_type": "slide"
    }
   },
   "source": [
    "<a href=\"https://colab.research.google.com/github/w4bo/handsOnDataPipelines/blob/main/materials/00-PythonFundamentals.ipynb\" target=\"_parent\"><img src=\"https://colab.research.google.com/assets/colab-badge.svg\" alt=\"Open In Colab\"/></a>"
   ]
  },
  {
   "cell_type": "markdown",
   "id": "196192da",
   "metadata": {
    "id": "196192da",
    "slideshow": {
     "slide_type": "-"
    }
   },
   "source": [
    "Python was created by Guido van Rossum in the early 90s. It’s basically executable pseudocode.\n",
    "\n",
    "- Major versions of Python: 2 (end of support 2020) and 3\n",
    "- We use 3, check also: https://learnxinyminutes.com/docs/python/\n",
    "\n",
    "Cross-platform interpreted language\n",
    "- Available on the main OS (Linux, Mac, Windows, etc.)\n",
    "- CPython is the reference implementation plus other alternatives\n",
    "- Can be integrated into other languages (C, C++, Java, etc.)\n",
    "\n",
    "Multi-paradigm\n",
    "- Imperative, object-oriented\n",
    "- Syntax can be easily extended\n",
    "\n",
    "Emphasis on the on ease of reading and writing\n",
    "- \"There should be one—and preferably only one—obvious way to do it\""
   ]
  },
  {
   "cell_type": "code",
   "execution_count": 1,
   "id": "79157e9a",
   "metadata": {
    "id": "79157e9a"
   },
   "outputs": [
    {
     "data": {
      "text/plain": [
       "'Hello, world!'"
      ]
     },
     "execution_count": 1,
     "metadata": {},
     "output_type": "execute_result"
    }
   ],
   "source": [
    "\"Hello, world!\"  # This is a comment\n"
   ]
  },
  {
   "cell_type": "markdown",
   "id": "db17ec33",
   "metadata": {
    "slideshow": {
     "slide_type": "slide"
    }
   },
   "source": [
    "Why Python? \n",
    "- Easy to learn\n",
    "- Used for multiple purposes (scripting, data science, etc.)\n",
    "- Used for prototyping and rapid development cycles\n",
    "- Rising popularity\n",
    "    - Includes a standard library \n",
    "    - Wide availability of external libraries\n",
    "    - E.g., machine learning, deep learning"
   ]
  },
  {
   "cell_type": "markdown",
   "id": "806d4568",
   "metadata": {
    "slideshow": {
     "slide_type": "subslide"
    }
   },
   "source": [
    "![image](https://user-images.githubusercontent.com/18005592/200129836-6094deb1-e486-4b5e-88de-19a165513f90.png)"
   ]
  },
  {
   "cell_type": "markdown",
   "id": "6f561bb0",
   "metadata": {
    "slideshow": {
     "slide_type": "slide"
    }
   },
   "source": [
    "Python features make it suitable for analysis operations \n",
    "- Interactively usable, scripts, and complete programs\n",
    "\n",
    "Several libraries that make Python a complete data analysis environment\n",
    "- Python is increasingly used as a replacement for R and other ad-hoc software \n",
    "- E.g., NumPy for the representation of data in the form of vectors and matrices \n",
    "- E.g., Pandas for the manipulation and transformation of tabular data \n",
    "- E.g., Sklearn for the application of machine learning and data mining algorithms\n",
    "- E.g., Matplotlib for data visualization"
   ]
  },
  {
   "cell_type": "markdown",
   "id": "68aab395",
   "metadata": {
    "slideshow": {
     "slide_type": "slide"
    }
   },
   "source": [
    "A Python statement is contained by default in a row"
   ]
  },
  {
   "cell_type": "code",
   "execution_count": 2,
   "id": "340d3239",
   "metadata": {},
   "outputs": [
    {
     "name": "stdout",
     "output_type": "stream",
     "text": [
      "Hello, world!\n",
      "Hello, World!"
     ]
    }
   ],
   "source": [
    "# Python has a print function\n",
    "print(\"Hello, world!\")\n",
    "\n",
    "# By default the print function also prints out a newline at the end.\n",
    "# Use the optional argument end to change the end string.\n",
    "print(\"Hello, World\", end=\"!\")  # => Hello, World!\n"
   ]
  },
  {
   "cell_type": "markdown",
   "id": "70760aea",
   "metadata": {},
   "source": [
    "Write inline instructions with `;`"
   ]
  },
  {
   "cell_type": "code",
   "execution_count": 3,
   "id": "7a07654e",
   "metadata": {},
   "outputs": [
    {
     "name": "stdout",
     "output_type": "stream",
     "text": [
      "Hello, world!\n"
     ]
    }
   ],
   "source": [
    "print(\"Hello, \", end=\"\"); print(\"world!\")"
   ]
  },
  {
   "cell_type": "markdown",
   "id": "e1a29118",
   "metadata": {},
   "source": [
    "A statement can continue in the next row\n",
    "Explicit: the row ends with “\\”\n",
    "Implicit: if there are unclosed brackets\n"
   ]
  },
  {
   "cell_type": "code",
   "execution_count": 4,
   "id": "656dc8b9",
   "metadata": {},
   "outputs": [
    {
     "name": "stdout",
     "output_type": "stream",
     "text": [
      "Hello, world!\n"
     ]
    }
   ],
   "source": [
    "print(\"Hello, \"\n",
    "      + \"world!\")\n"
   ]
  },
  {
   "cell_type": "markdown",
   "id": "b8c2822a",
   "metadata": {
    "id": "b8c2822a",
    "slideshow": {
     "slide_type": "slide"
    }
   },
   "source": [
    "Doing some math"
   ]
  },
  {
   "cell_type": "code",
   "execution_count": 5,
   "id": "bd04823c",
   "metadata": {
    "id": "bd04823c",
    "slideshow": {
     "slide_type": "-"
    }
   },
   "outputs": [
    {
     "data": {
      "text/plain": [
       "8"
      ]
     },
     "execution_count": 5,
     "metadata": {},
     "output_type": "execute_result"
    }
   ],
   "source": [
    "# Math is what you would expect\n",
    "1 + 1   # => 2\n",
    "8 - 1   # => 7\n",
    "10 * 2  # => 20\n",
    "35 / 5  # => 7.0\n",
    "# Modulo operation\n",
    "7 % 3   # => 1\n",
    "# Exponentiation (x**y, x to the yth power)\n",
    "2 ** 3  # => 8\n"
   ]
  },
  {
   "cell_type": "markdown",
   "id": "b1dc7076",
   "metadata": {
    "id": "b1dc7076",
    "slideshow": {
     "slide_type": "slide"
    }
   },
   "source": [
    "Boolean variables"
   ]
  },
  {
   "cell_type": "code",
   "execution_count": 6,
   "id": "f03fc55e",
   "metadata": {
    "id": "f03fc55e"
   },
   "outputs": [
    {
     "data": {
      "text/plain": [
       "True"
      ]
     },
     "execution_count": 6,
     "metadata": {},
     "output_type": "execute_result"
    }
   ],
   "source": [
    "# negate with not\n",
    "not True   # => False\n",
    "not False  # => True\n",
    "# Boolean Operators\n",
    "# Note \"and\" and \"or\" are case-sensitive\n",
    "True and False  # => False\n",
    "False or True   # => True\n",
    "\n",
    "# True and False are actually 1 and 0 but with different keywords\n",
    "True + True  # => 2\n",
    "True * 8    # => 8\n",
    "False - 5   # => -5\n",
    "\n",
    "# Equality is ==\n",
    "1 == 1  # => True\n",
    "2 == 1  # => False\n",
    "\n",
    "# Inequality is !=\n",
    "1 != 1  # => False\n",
    "2 != 1  # => True\n",
    "\n",
    "# More comparisons\n",
    "1 < 10  # => True\n",
    "1 > 10  # => False\n",
    "2 <= 2  # => True\n",
    "2 >= 2  # => True\n"
   ]
  },
  {
   "cell_type": "markdown",
   "id": "30c6e0d1",
   "metadata": {
    "slideshow": {
     "slide_type": "slide"
    }
   },
   "source": [
    "In other languages, code blocks (`if`, `for`, etc.) are usually delimited by specific symbols (e.g., `{` and `}`)"
   ]
  },
  {
   "cell_type": "markdown",
   "id": "fc0e3f87",
   "metadata": {},
   "source": [
    "Java\n",
    "    \n",
    "    for (int i = 0; i < 5; i++) {\n",
    "        if (i < 3) {\n",
    "            System.out.println(i + \"\");\n",
    "        }\n",
    "    }"
   ]
  },
  {
   "cell_type": "markdown",
   "id": "8176e4be",
   "metadata": {},
   "source": [
    "In Python, indentation is used for better readability\n",
    "- Each row introducing a block (e.g., if) ends with “:”\n",
    "- Rows within the same block are indented with the same number of spaces\n",
    "- An empty block contains the keyword `pass`"
   ]
  },
  {
   "cell_type": "code",
   "execution_count": 7,
   "id": "18b6742d",
   "metadata": {},
   "outputs": [
    {
     "name": "stdout",
     "output_type": "stream",
     "text": [
      "0\n",
      "1\n",
      "2\n"
     ]
    }
   ],
   "source": [
    "for i in range(0, 5):\n",
    "    if i < 3:\n",
    "        print(i)\n",
    "    else:\n",
    "        pass\n"
   ]
  },
  {
   "cell_type": "markdown",
   "id": "de516672",
   "metadata": {
    "slideshow": {
     "slide_type": "slide"
    }
   },
   "source": [
    "Everything is an object: numbers, lists, functions, etc.\n",
    "- Not the same as Java, where int and float are not objects\n",
    "\n",
    "Objects have attributes and methods accessed via the \".\" syntax\n",
    "- `object.attribute`\n",
    "- `object.method()`\n",
    "\n",
    "The object type determines the available attributes and operations\n",
    "- Object types are known only at execution time\n",
    "- Not the same as Java, where object types are known at compile time (i.e., before execution)\n",
    "\n",
    "The object `None` (with type `NoneType`) represents an absence of value\n",
    "- As `null` in Java (which is not an object)"
   ]
  },
  {
   "cell_type": "markdown",
   "id": "6fe07fc0",
   "metadata": {
    "slideshow": {
     "slide_type": "slide"
    }
   },
   "source": [
    "Python introduces different object collections\n",
    "- Lists (`[\"cat\", \"cat\", \"dog\"]`)\n",
    "- Sets (`{\"cat\", \"dog\"}`)\n",
    "- Dictionaries (`{\"key\": \"value\"}`)\n",
    "\n",
    "Collections\n",
    "- Can contain objects with heterogeneous types (e.g., the list `[1, \"cat\"]`)\n",
    "- Can be nested (e.g., `[\"cat\", [\"cat\", [\"dog\"]]]`)\n",
    "\n",
    "Collections can be mutable or immutable\n",
    "- Mutable: it is possible to add/remove/replaces elements\n",
    "- Immutable: it is not possible to modify the collection (e.g., numbers, booleans, strings)\n",
    "\n",
    "Strings (str) are immutable sequences of characters\n",
    "- A character is a string with length 1, there is not char type"
   ]
  },
  {
   "cell_type": "code",
   "execution_count": 8,
   "id": "7729b400",
   "metadata": {
    "id": "7729b400",
    "slideshow": {
     "slide_type": "subslide"
    }
   },
   "outputs": [],
   "source": [
    "# There are no declarations, only assignments.\n",
    "# Convention is to use lower_case_with_underscores\n",
    "some_var = 5\n",
    "\n",
    "# Lists\n",
    "li = []         # empty list\n",
    "li.append(1)    # li is now [1]\n",
    "li.append(2)    # li is now [1, 2]\n",
    "li.append(4)    # li is now [1, 2, 4]\n",
    "li.append(3)    # li is now [1, 2, 4, 3]\n",
    "li[0]           # => 1\n",
    "li[1:3]   # Return list from index 1 to 3 => [2, 4]\n",
    "# Examine the length with \"len()\"\n",
    "len(li)  # => 4\n",
    "\n",
    "# You can start with a prefilled list\n",
    "other_li = [1, 2, 3, 4]\n",
    "\n",
    "# Dictionaries store mappings from keys to values\n",
    "empty_dict = {}\n",
    "# Here is a prefilled dictionary\n",
    "filled_dict = {\"one\": 1, \"two\": 2, \"three\": 3}\n",
    "\n",
    "# Sets\n",
    "empty_set = set()\n",
    "# Initialize a set with a bunch of values. Yeah, it looks a bit like a dict. Sorry.\n",
    "some_set = {1, 1, 2, 2, 3, 4}  # some_set is now {1, 2, 3, 4}\n"
   ]
  },
  {
   "cell_type": "markdown",
   "id": "79a2d2a1",
   "metadata": {
    "id": "79a2d2a1",
    "slideshow": {
     "slide_type": "slide"
    }
   },
   "source": [
    "Control flow"
   ]
  },
  {
   "cell_type": "code",
   "execution_count": 9,
   "id": "b7c44105",
   "metadata": {
    "id": "b7c44105",
    "scrolled": true
   },
   "outputs": [
    {
     "name": "stdout",
     "output_type": "stream",
     "text": [
      "some_var is smaller than 10.\n",
      "dog is a mammal\n",
      "cat is a mammal\n",
      "mouse is a mammal\n"
     ]
    }
   ],
   "source": [
    "# Let's just make a variable\n",
    "some_var = 5\n",
    "\n",
    "# Here is an if statement. Indentation is significant in Python!\n",
    "if some_var > 10:\n",
    "    print(\"some_var is totally bigger than 10.\")\n",
    "elif some_var < 10:    # This elif clause is optional.\n",
    "    print(\"some_var is smaller than 10.\")\n",
    "else:                  # This is optional too.\n",
    "    print(\"some_var is indeed 10.\")\n",
    "\n",
    "\n",
    "\"\"\"\n",
    "For loops iterate over lists\n",
    "prints:\n",
    "    dog is a mammal\n",
    "    cat is a mammal\n",
    "    mouse is a mammal\n",
    "\"\"\"\n",
    "for animal in [\"dog\", \"cat\", \"mouse\"]:\n",
    "    # You can use format() to interpolate formatted strings\n",
    "    print(\"{} is a mammal.\".format(animal))\n"
   ]
  },
  {
   "cell_type": "markdown",
   "id": "24b5efa2",
   "metadata": {
    "id": "24b5efa2",
    "slideshow": {
     "slide_type": "slide"
    }
   },
   "source": [
    "Defining some functions"
   ]
  },
  {
   "cell_type": "code",
   "execution_count": 13,
   "id": "5fd74100",
   "metadata": {
    "id": "5fd74100"
   },
   "outputs": [
    {
     "data": {
      "text/plain": [
       "11"
      ]
     },
     "execution_count": 13,
     "metadata": {},
     "output_type": "execute_result"
    }
   ],
   "source": [
    "# Use \"def\" to create new functions\n",
    "def add(x, y):\n",
    "    return x + y  # Return values with a return statement\n",
    "\n",
    "\n",
    "# Calling functions with parameters\n",
    "add(5, 6)  # => prints out \"x is 5 and y is 6\" and returns 11\n"
   ]
  },
  {
   "cell_type": "markdown",
   "id": "dccedd8f",
   "metadata": {
    "id": "dccedd8f",
    "slideshow": {
     "slide_type": "slide"
    }
   },
   "source": [
    "Importing some modules"
   ]
  },
  {
   "cell_type": "code",
   "execution_count": 11,
   "id": "ae91d0e6",
   "metadata": {
    "id": "ae91d0e6"
   },
   "outputs": [],
   "source": [
    "# You can import modules\n",
    "import numpy as np\n",
    "import pandas as pd\n"
   ]
  },
  {
   "cell_type": "markdown",
   "id": "5eb748d6",
   "metadata": {
    "id": "5eb748d6",
    "slideshow": {
     "slide_type": "slide"
    }
   },
   "source": [
    "Hands on!"
   ]
  },
  {
   "cell_type": "code",
   "execution_count": 12,
   "id": "9814842c",
   "metadata": {
    "id": "9814842c"
   },
   "outputs": [],
   "source": [
    "# initialize a variable `foo` with value 10\n",
    "\n",
    "# initialize a variable `bar` with value 5\n",
    "\n",
    "# if `foo` is higher than `bar` then print \"Higher\", else print \"Lower\"\n"
   ]
  }
 ],
 "metadata": {
  "celltoolbar": "Slideshow",
  "colab": {
   "include_colab_link": true,
   "provenance": []
  },
  "kernelspec": {
   "display_name": "Python 3 (ipykernel)",
   "language": "python",
   "name": "python3"
  },
  "language_info": {
   "codemirror_mode": {
    "name": "ipython",
    "version": 3
   },
   "file_extension": ".py",
   "mimetype": "text/x-python",
   "name": "python",
   "nbconvert_exporter": "python",
   "pygments_lexer": "ipython3",
   "version": "3.11.2"
  }
 },
 "nbformat": 4,
 "nbformat_minor": 5
}
